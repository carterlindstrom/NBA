{
 "cells": [
  {
   "cell_type": "code",
   "execution_count": 1,
   "metadata": {},
   "outputs": [],
   "source": [
    "import os\n",
    "from bs4 import BeautifulSoup\n",
    "import pandas as pd\n",
    "import numpy as np\n",
    "import requests\n",
    "from sklearn.pipeline import Pipeline\n",
    "from sklearn.preprocessing import PolynomialFeatures, OneHotEncoder, StandardScaler\n",
    "from sklearn.compose import make_column_transformer\n",
    "from sklearn.linear_model import LinearRegression, LogisticRegression\n",
    "from sklearn.model_selection import train_test_split, cross_val_score\n",
    "from sklearn.cluster import KMeans\n",
    "from sklearn.decomposition import PCA\n",
    "import matplotlib.pyplot as plt"
   ]
  },
  {
   "cell_type": "code",
   "execution_count": 2,
   "metadata": {},
   "outputs": [
    {
     "ename": "FileNotFoundError",
     "evalue": "[Errno 2] No such file or directory: 'mvp-predict/data/mvpfield.csv'",
     "output_type": "error",
     "traceback": [
      "\u001b[0;31m---------------------------------------------------------------------------\u001b[0m",
      "\u001b[0;31mFileNotFoundError\u001b[0m                         Traceback (most recent call last)",
      "\u001b[0;32m<ipython-input-2-379a0ac283c0>\u001b[0m in \u001b[0;36m<module>\u001b[0;34m\u001b[0m\n\u001b[0;32m----> 1\u001b[0;31m \u001b[0mmvp_field\u001b[0m \u001b[0;34m=\u001b[0m \u001b[0mpd\u001b[0m\u001b[0;34m.\u001b[0m\u001b[0mread_csv\u001b[0m\u001b[0;34m(\u001b[0m\u001b[0;34m'mvp-predict/data/mvpfield.csv'\u001b[0m\u001b[0;34m)\u001b[0m\u001b[0;34m\u001b[0m\u001b[0;34m\u001b[0m\u001b[0m\n\u001b[0m",
      "\u001b[0;32m/opt/anaconda3/lib/python3.8/site-packages/pandas/io/parsers.py\u001b[0m in \u001b[0;36mread_csv\u001b[0;34m(filepath_or_buffer, sep, delimiter, header, names, index_col, usecols, squeeze, prefix, mangle_dupe_cols, dtype, engine, converters, true_values, false_values, skipinitialspace, skiprows, skipfooter, nrows, na_values, keep_default_na, na_filter, verbose, skip_blank_lines, parse_dates, infer_datetime_format, keep_date_col, date_parser, dayfirst, cache_dates, iterator, chunksize, compression, thousands, decimal, lineterminator, quotechar, quoting, doublequote, escapechar, comment, encoding, dialect, error_bad_lines, warn_bad_lines, delim_whitespace, low_memory, memory_map, float_precision, storage_options)\u001b[0m\n\u001b[1;32m    608\u001b[0m     \u001b[0mkwds\u001b[0m\u001b[0;34m.\u001b[0m\u001b[0mupdate\u001b[0m\u001b[0;34m(\u001b[0m\u001b[0mkwds_defaults\u001b[0m\u001b[0;34m)\u001b[0m\u001b[0;34m\u001b[0m\u001b[0;34m\u001b[0m\u001b[0m\n\u001b[1;32m    609\u001b[0m \u001b[0;34m\u001b[0m\u001b[0m\n\u001b[0;32m--> 610\u001b[0;31m     \u001b[0;32mreturn\u001b[0m \u001b[0m_read\u001b[0m\u001b[0;34m(\u001b[0m\u001b[0mfilepath_or_buffer\u001b[0m\u001b[0;34m,\u001b[0m \u001b[0mkwds\u001b[0m\u001b[0;34m)\u001b[0m\u001b[0;34m\u001b[0m\u001b[0;34m\u001b[0m\u001b[0m\n\u001b[0m\u001b[1;32m    611\u001b[0m \u001b[0;34m\u001b[0m\u001b[0m\n\u001b[1;32m    612\u001b[0m \u001b[0;34m\u001b[0m\u001b[0m\n",
      "\u001b[0;32m/opt/anaconda3/lib/python3.8/site-packages/pandas/io/parsers.py\u001b[0m in \u001b[0;36m_read\u001b[0;34m(filepath_or_buffer, kwds)\u001b[0m\n\u001b[1;32m    460\u001b[0m \u001b[0;34m\u001b[0m\u001b[0m\n\u001b[1;32m    461\u001b[0m     \u001b[0;31m# Create the parser.\u001b[0m\u001b[0;34m\u001b[0m\u001b[0;34m\u001b[0m\u001b[0;34m\u001b[0m\u001b[0m\n\u001b[0;32m--> 462\u001b[0;31m     \u001b[0mparser\u001b[0m \u001b[0;34m=\u001b[0m \u001b[0mTextFileReader\u001b[0m\u001b[0;34m(\u001b[0m\u001b[0mfilepath_or_buffer\u001b[0m\u001b[0;34m,\u001b[0m \u001b[0;34m**\u001b[0m\u001b[0mkwds\u001b[0m\u001b[0;34m)\u001b[0m\u001b[0;34m\u001b[0m\u001b[0;34m\u001b[0m\u001b[0m\n\u001b[0m\u001b[1;32m    463\u001b[0m \u001b[0;34m\u001b[0m\u001b[0m\n\u001b[1;32m    464\u001b[0m     \u001b[0;32mif\u001b[0m \u001b[0mchunksize\u001b[0m \u001b[0;32mor\u001b[0m \u001b[0miterator\u001b[0m\u001b[0;34m:\u001b[0m\u001b[0;34m\u001b[0m\u001b[0;34m\u001b[0m\u001b[0m\n",
      "\u001b[0;32m/opt/anaconda3/lib/python3.8/site-packages/pandas/io/parsers.py\u001b[0m in \u001b[0;36m__init__\u001b[0;34m(self, f, engine, **kwds)\u001b[0m\n\u001b[1;32m    817\u001b[0m             \u001b[0mself\u001b[0m\u001b[0;34m.\u001b[0m\u001b[0moptions\u001b[0m\u001b[0;34m[\u001b[0m\u001b[0;34m\"has_index_names\"\u001b[0m\u001b[0;34m]\u001b[0m \u001b[0;34m=\u001b[0m \u001b[0mkwds\u001b[0m\u001b[0;34m[\u001b[0m\u001b[0;34m\"has_index_names\"\u001b[0m\u001b[0;34m]\u001b[0m\u001b[0;34m\u001b[0m\u001b[0;34m\u001b[0m\u001b[0m\n\u001b[1;32m    818\u001b[0m \u001b[0;34m\u001b[0m\u001b[0m\n\u001b[0;32m--> 819\u001b[0;31m         \u001b[0mself\u001b[0m\u001b[0;34m.\u001b[0m\u001b[0m_engine\u001b[0m \u001b[0;34m=\u001b[0m \u001b[0mself\u001b[0m\u001b[0;34m.\u001b[0m\u001b[0m_make_engine\u001b[0m\u001b[0;34m(\u001b[0m\u001b[0mself\u001b[0m\u001b[0;34m.\u001b[0m\u001b[0mengine\u001b[0m\u001b[0;34m)\u001b[0m\u001b[0;34m\u001b[0m\u001b[0;34m\u001b[0m\u001b[0m\n\u001b[0m\u001b[1;32m    820\u001b[0m \u001b[0;34m\u001b[0m\u001b[0m\n\u001b[1;32m    821\u001b[0m     \u001b[0;32mdef\u001b[0m \u001b[0mclose\u001b[0m\u001b[0;34m(\u001b[0m\u001b[0mself\u001b[0m\u001b[0;34m)\u001b[0m\u001b[0;34m:\u001b[0m\u001b[0;34m\u001b[0m\u001b[0;34m\u001b[0m\u001b[0m\n",
      "\u001b[0;32m/opt/anaconda3/lib/python3.8/site-packages/pandas/io/parsers.py\u001b[0m in \u001b[0;36m_make_engine\u001b[0;34m(self, engine)\u001b[0m\n\u001b[1;32m   1048\u001b[0m             )\n\u001b[1;32m   1049\u001b[0m         \u001b[0;31m# error: Too many arguments for \"ParserBase\"\u001b[0m\u001b[0;34m\u001b[0m\u001b[0;34m\u001b[0m\u001b[0;34m\u001b[0m\u001b[0m\n\u001b[0;32m-> 1050\u001b[0;31m         \u001b[0;32mreturn\u001b[0m \u001b[0mmapping\u001b[0m\u001b[0;34m[\u001b[0m\u001b[0mengine\u001b[0m\u001b[0;34m]\u001b[0m\u001b[0;34m(\u001b[0m\u001b[0mself\u001b[0m\u001b[0;34m.\u001b[0m\u001b[0mf\u001b[0m\u001b[0;34m,\u001b[0m \u001b[0;34m**\u001b[0m\u001b[0mself\u001b[0m\u001b[0;34m.\u001b[0m\u001b[0moptions\u001b[0m\u001b[0;34m)\u001b[0m  \u001b[0;31m# type: ignore[call-arg]\u001b[0m\u001b[0;34m\u001b[0m\u001b[0;34m\u001b[0m\u001b[0m\n\u001b[0m\u001b[1;32m   1051\u001b[0m \u001b[0;34m\u001b[0m\u001b[0m\n\u001b[1;32m   1052\u001b[0m     \u001b[0;32mdef\u001b[0m \u001b[0m_failover_to_python\u001b[0m\u001b[0;34m(\u001b[0m\u001b[0mself\u001b[0m\u001b[0;34m)\u001b[0m\u001b[0;34m:\u001b[0m\u001b[0;34m\u001b[0m\u001b[0;34m\u001b[0m\u001b[0m\n",
      "\u001b[0;32m/opt/anaconda3/lib/python3.8/site-packages/pandas/io/parsers.py\u001b[0m in \u001b[0;36m__init__\u001b[0;34m(self, src, **kwds)\u001b[0m\n\u001b[1;32m   1865\u001b[0m \u001b[0;34m\u001b[0m\u001b[0m\n\u001b[1;32m   1866\u001b[0m         \u001b[0;31m# open handles\u001b[0m\u001b[0;34m\u001b[0m\u001b[0;34m\u001b[0m\u001b[0;34m\u001b[0m\u001b[0m\n\u001b[0;32m-> 1867\u001b[0;31m         \u001b[0mself\u001b[0m\u001b[0;34m.\u001b[0m\u001b[0m_open_handles\u001b[0m\u001b[0;34m(\u001b[0m\u001b[0msrc\u001b[0m\u001b[0;34m,\u001b[0m \u001b[0mkwds\u001b[0m\u001b[0;34m)\u001b[0m\u001b[0;34m\u001b[0m\u001b[0;34m\u001b[0m\u001b[0m\n\u001b[0m\u001b[1;32m   1868\u001b[0m         \u001b[0;32massert\u001b[0m \u001b[0mself\u001b[0m\u001b[0;34m.\u001b[0m\u001b[0mhandles\u001b[0m \u001b[0;32mis\u001b[0m \u001b[0;32mnot\u001b[0m \u001b[0;32mNone\u001b[0m\u001b[0;34m\u001b[0m\u001b[0;34m\u001b[0m\u001b[0m\n\u001b[1;32m   1869\u001b[0m         \u001b[0;32mfor\u001b[0m \u001b[0mkey\u001b[0m \u001b[0;32min\u001b[0m \u001b[0;34m(\u001b[0m\u001b[0;34m\"storage_options\"\u001b[0m\u001b[0;34m,\u001b[0m \u001b[0;34m\"encoding\"\u001b[0m\u001b[0;34m,\u001b[0m \u001b[0;34m\"memory_map\"\u001b[0m\u001b[0;34m,\u001b[0m \u001b[0;34m\"compression\"\u001b[0m\u001b[0;34m)\u001b[0m\u001b[0;34m:\u001b[0m\u001b[0;34m\u001b[0m\u001b[0;34m\u001b[0m\u001b[0m\n",
      "\u001b[0;32m/opt/anaconda3/lib/python3.8/site-packages/pandas/io/parsers.py\u001b[0m in \u001b[0;36m_open_handles\u001b[0;34m(self, src, kwds)\u001b[0m\n\u001b[1;32m   1360\u001b[0m         \u001b[0mLet\u001b[0m \u001b[0mthe\u001b[0m \u001b[0mreaders\u001b[0m \u001b[0mopen\u001b[0m \u001b[0mIOHanldes\u001b[0m \u001b[0mafter\u001b[0m \u001b[0mthey\u001b[0m \u001b[0mare\u001b[0m \u001b[0mdone\u001b[0m \u001b[0;32mwith\u001b[0m \u001b[0mtheir\u001b[0m \u001b[0mpotential\u001b[0m \u001b[0mraises\u001b[0m\u001b[0;34m.\u001b[0m\u001b[0;34m\u001b[0m\u001b[0;34m\u001b[0m\u001b[0m\n\u001b[1;32m   1361\u001b[0m         \"\"\"\n\u001b[0;32m-> 1362\u001b[0;31m         self.handles = get_handle(\n\u001b[0m\u001b[1;32m   1363\u001b[0m             \u001b[0msrc\u001b[0m\u001b[0;34m,\u001b[0m\u001b[0;34m\u001b[0m\u001b[0;34m\u001b[0m\u001b[0m\n\u001b[1;32m   1364\u001b[0m             \u001b[0;34m\"r\"\u001b[0m\u001b[0;34m,\u001b[0m\u001b[0;34m\u001b[0m\u001b[0;34m\u001b[0m\u001b[0m\n",
      "\u001b[0;32m/opt/anaconda3/lib/python3.8/site-packages/pandas/io/common.py\u001b[0m in \u001b[0;36mget_handle\u001b[0;34m(path_or_buf, mode, encoding, compression, memory_map, is_text, errors, storage_options)\u001b[0m\n\u001b[1;32m    640\u001b[0m                 \u001b[0merrors\u001b[0m \u001b[0;34m=\u001b[0m \u001b[0;34m\"replace\"\u001b[0m\u001b[0;34m\u001b[0m\u001b[0;34m\u001b[0m\u001b[0m\n\u001b[1;32m    641\u001b[0m             \u001b[0;31m# Encoding\u001b[0m\u001b[0;34m\u001b[0m\u001b[0;34m\u001b[0m\u001b[0;34m\u001b[0m\u001b[0m\n\u001b[0;32m--> 642\u001b[0;31m             handle = open(\n\u001b[0m\u001b[1;32m    643\u001b[0m                 \u001b[0mhandle\u001b[0m\u001b[0;34m,\u001b[0m\u001b[0;34m\u001b[0m\u001b[0;34m\u001b[0m\u001b[0m\n\u001b[1;32m    644\u001b[0m                 \u001b[0mioargs\u001b[0m\u001b[0;34m.\u001b[0m\u001b[0mmode\u001b[0m\u001b[0;34m,\u001b[0m\u001b[0;34m\u001b[0m\u001b[0;34m\u001b[0m\u001b[0m\n",
      "\u001b[0;31mFileNotFoundError\u001b[0m: [Errno 2] No such file or directory: 'mvp-predict/data/mvpfield.csv'"
     ]
    }
   ],
   "source": [
    "mvp_field = pd.read_csv('mvp-predict/data/mvpfield.csv')"
   ]
  },
  {
   "cell_type": "code",
   "execution_count": null,
   "metadata": {},
   "outputs": [],
   "source": [
    "def download(filename, url): \n",
    "\n",
    "    if os.path.exists(filename):\n",
    "        return (str(filename) + \" already exists!\")\n",
    "    \n",
    "    rslt = requests.get(url)\n",
    "    \n",
    "    if rslt.ok:  \n",
    "    \n",
    "        file = open(filename, 'wb')\n",
    "    \n",
    "        file.write(rslt.content)\n",
    "    \n",
    "        file.close()\n",
    "        \n",
    "    else:\n",
    "        return(\"Bad url!\")\n",
    "    \n",
    "    return (str(filename) + \" created!\")\n",
    "\n",
    "def parse_mvp():\n",
    "    download('mvp.html', 'https://www.basketball-reference.com/awards/mvp.html')\n",
    "    f = open('mvp.html')\n",
    "    file = f.read()\n",
    "    f.close()\n",
    "    doc = BeautifulSoup(file, 'html.parser')\n",
    "\n",
    "    tables = doc.find_all(\"table\")\n",
    "\n",
    "    tbl = tables[0]\n",
    "    rows = tbl.find_all('tr')\n",
    "    hdr = rows[0]\n",
    "    hdr2 = rows[1]\n",
    "    dta = tbl.find_all('tr')[2:]\n",
    "\n",
    "\n",
    "    header = []\n",
    "    hd = hdr2.find_all('th')\n",
    "    for th in hd:\n",
    "        header.append(th.get_text())\n",
    "\n",
    "    ints = ['Age', 'G']\n",
    "    floats = ['MP', 'PTS', 'TRB', 'AST', 'STL', 'BLK', 'FG%', '3P%', 'FT%', 'WS', 'WS/48']\n",
    "\n",
    "    mvp_list = []\n",
    "\n",
    "    for tr in dta:\n",
    "        curr_dict = {}\n",
    "        curr_list = []\n",
    "        for dat in tr:\n",
    "            curr_list.append(dat.get_text())\n",
    "\n",
    "        for i in range(len(curr_list)):\n",
    "            season = curr_list[header.index(\"Season\")]\n",
    "\n",
    "            if curr_list[i] == None or curr_list[i] == '':\n",
    "                curr_dict[header[i]] = 0.0\n",
    "            elif header[i] in floats:\n",
    "                curr_dict[header[i]] = float(curr_list[i])\n",
    "            elif header[i] in ints:\n",
    "                curr_dict[header[i]] = int(curr_list[i])\n",
    "            else:\n",
    "                curr_dict[header[i]] = curr_list[i]\n",
    "        if curr_dict != {}:\n",
    "            mvp_list.append(curr_dict)\n",
    "    return mvp_list\n"
   ]
  },
  {
   "cell_type": "code",
   "execution_count": null,
   "metadata": {},
   "outputs": [],
   "source": [
    "def season_convert(season):\n",
    "    if season == '1999-00':\n",
    "        return 2000\n",
    "    season_right = season[season.find(\"-\")+1:]\n",
    "    season_left = season[:2]\n",
    "    return int(season_left+season_right)\n"
   ]
  },
  {
   "cell_type": "code",
   "execution_count": null,
   "metadata": {},
   "outputs": [],
   "source": [
    "mvp_history = pd.DataFrame(parse_mvp())\n",
    "mvp_history['Season'] = mvp_history['Season'].apply(season_convert)\n",
    "mvp_history.rename(columns = {'G':'Games Played'}, inplace = True)\n",
    "mvp_history.rename(columns = {'WS':'Win Shares'}, inplace = True)\n",
    "mvp_vals = [1 for i in range(65)]\n",
    "mvp_history[\"MVP\"] = mvp_vals\n",
    "mvp_history_slice = mvp_history.iloc[2:11]\n",
    "mvp_field = mvp_field.merge(mvp_history_slice[['Player', 'Season', 'MVP']], on = ['Player', 'Season'], how = 'left').fillna(0)\n",
    "\n",
    "percent_70_played = len(mvp_history[mvp_history['Games Played'] > 70])/len(mvp_history)"
   ]
  },
  {
   "cell_type": "code",
   "execution_count": null,
   "metadata": {},
   "outputs": [],
   "source": [
    "ax = mvp_history.plot.scatter('Season', 'Games Played', cmap = 'plasma', c = 'Win Shares', sharex = False, figsize = (5,4))\n",
    "ax.set_ylabel(\"Games Played\")\n",
    "ax.set_xlabel(\"Season\")\n",
    "ax.set_title(\"Figure 1: MVPs Win Shares and Games Played per Season\", pad=20)\n",
    "ax.get_figure().savefig('mvp_history.svg')"
   ]
  },
  {
   "cell_type": "code",
   "execution_count": null,
   "metadata": {},
   "outputs": [],
   "source": [
    "def parse_2021_advanced():\n",
    "\n",
    "    download('stats2021_advanced.html', 'https://www.basketball-reference.com/leagues/NBA_2021_advanced.html')\n",
    "    f = open('stats2021_advanced.html')\n",
    "    file = f.read()\n",
    "    f.close()\n",
    "    doc = BeautifulSoup(file, 'html.parser')\n",
    "\n",
    "    tables = doc.find_all(\"table\")\n",
    "\n",
    "    tbl = tables[0]\n",
    "    rows = tbl.find_all('tr')\n",
    "    hdr = rows[0]\n",
    "    dta = tbl.find_all('tr')[1:]\n",
    "\n",
    "\n",
    "    header = []\n",
    "    hd = hdr.find_all('th')\n",
    "    for th in hd:\n",
    "        header.append(th.get_text())\n",
    "\n",
    "\n",
    "    ints = ['Age', 'G', 'GS', 'Rk']\n",
    "    strings = ['Player', 'Pos', 'Tm']\n",
    "    \n",
    "\n",
    "    players_2021 = []\n",
    "    names = []\n",
    "    for tr in dta:\n",
    "        curr_dict = {}\n",
    "        curr_list = []\n",
    "        \n",
    "        for dat in tr:\n",
    "            try:\n",
    "\n",
    "                this_row = []\n",
    "                if tr.index(dat) == 1:\n",
    "                    name = dat.get_text()\n",
    "                    if name in names or name == \"Player\":\n",
    "                        break\n",
    "                    else:\n",
    "                        names.append(name)\n",
    "                this_row.append(dat.get_text())\n",
    "                curr_list += this_row\n",
    "            except AttributeError:\n",
    "                break\n",
    "\n",
    "    \n",
    "\n",
    "        for i in range(len(curr_list)):\n",
    "\n",
    "            if curr_list[i] == '' or curr_list[i] == None:\n",
    "                curr_dict[header[i]] = 0.000\n",
    "            \n",
    "            elif header[i] in strings:\n",
    "                curr_dict[header[i]] = curr_list[i]\n",
    "                \n",
    "            elif header[i] in ints:\n",
    "                \n",
    "                curr_dict[header[i]] = int(curr_list[i])\n",
    "            else:\n",
    "                curr_dict[header[i]] = float(curr_list[i])\n",
    "                \n",
    "        players_2021.append(curr_dict)\n",
    "    \n",
    "    return players_2021\n",
    "\n",
    "players_2021 = pd.DataFrame(parse_2021_advanced()).dropna().reset_index()\n",
    "\n",
    "train, test = train_test_split(mvp_field, random_state=0)\n",
    "\n",
    "players_2021['G'] = players_2021['G'].apply(lambda x: int(((x/64)*72)*(82/72)))\n",
    "players_2021['WS'] = ((players_2021['WS'] / 64)*72)*(82/72)\n",
    "\n",
    "players_2021 = players_2021[players_2021.G >= 60]\n",
    "players_2021 = players_2021[players_2021.WS >= 8]\n",
    "\n"
   ]
  },
  {
   "cell_type": "code",
   "execution_count": null,
   "metadata": {},
   "outputs": [],
   "source": [
    "\n",
    "model = Pipeline([\n",
    "    (\"scale\", StandardScaler()),\n",
    "    (\"logr\", LogisticRegression())\n",
    "    \n",
    "])\n",
    "\n",
    "fields = [\"VORP\", \"PER\", \"WS\", \"BPM\", 'G']\n",
    "\n",
    "model.fit(train[fields], train[\"MVP\"])\n",
    "\n",
    "players_2021[\"prediction\"] = model.predict(players_2021[fields])\n",
    "mvp_predicted = players_2021.sort_values(by=\"prediction\", ascending=False) #Nikola Jokic is projected to win this year's MVP\n",
    "\n",
    "mean_score = cross_val_score(model, test[fields],\n",
    "                         test[\"MVP\"], cv = 2).mean()\n",
    "sd_score = cross_val_score(model, test[fields],\n",
    "                         test[\"MVP\"], cv = 2).std()\n",
    "\n",
    "mean_score"
   ]
  },
  {
   "cell_type": "code",
   "execution_count": null,
   "metadata": {},
   "outputs": [],
   "source": [
    "ax = pd.Series(model['logr'].coef_.flatten(), index = fields).plot.barh(figsize = (5,4))\n",
    "ax.set_xlabel(\"Weight\")\n",
    "ax.set_ylabel(\"Feature\")\n",
    "ax.set_title(\"Figure 3: Logistic Regression Coefficients\", pad=20)\n",
    "ax.get_figure().savefig('coefficients.svg')\n"
   ]
  },
  {
   "cell_type": "code",
   "execution_count": null,
   "metadata": {},
   "outputs": [],
   "source": [
    "past_mvps = pd.read_csv('mvp-predict/data/mvps.csv')\n",
    "model['logr'].coef_.flatten()"
   ]
  },
  {
   "cell_type": "code",
   "execution_count": null,
   "metadata": {},
   "outputs": [],
   "source": [
    "km = KMeans(n_clusters = 2)\n",
    "\n",
    "\n",
    "past_mvps['last_name'] = past_mvps['Name'].apply(lambda x: x[x.find(\" \")+1:] )\n",
    "past_mvps['cluster'] = km.fit_predict(past_mvps[['PER', 'WS']])\n",
    "\n",
    "def label_point(x, y, val, ax):\n",
    "    a = pd.concat({'x': x, 'y': y, 'val': val}, axis=1)\n",
    "    for i, point in a.iterrows():\n",
    "        ax.text(point['x'], point['y'], str(point['val']))\n",
    "\n",
    "\n",
    "ax = past_mvps.plot.scatter(x = 'PER', y = 'WS', c = past_mvps['cluster'], cmap = 'Paired', sharex=False, figsize = (5,4))\n",
    "centroids = pd.DataFrame(km.cluster_centers_, columns = [\"average\", \"elite\"])\n",
    "centroids.plot.scatter(x = 0, y = 1, c = 'red', s = 100, ax = ax)\n",
    "ax.set_xlabel(\"Player Efficiency Rating\")\n",
    "ax.set_ylabel(\"Win Shares\")\n",
    "label_point(past_mvps.PER, past_mvps.WS, past_mvps.last_name, ax)\n",
    "ax.set_title(\"Figure 2: Elite vs. Average MVP Performances\", pad=20)\n",
    "ax.get_figure().savefig('performances.svg')"
   ]
  },
  {
   "cell_type": "code",
   "execution_count": null,
   "metadata": {},
   "outputs": [],
   "source": [
    "pca = PCA(n_components = .9)\n",
    "# scale = model['scale']\n",
    "# scale.fit(train[fields])\n",
    "# scaled = scale.transform(train[fields])\n",
    "\n",
    "pca.fit(train[fields])\n",
    "\n",
    "\n",
    "key_df = pd.DataFrame(pca.components_)\n",
    "key_df"
   ]
  },
  {
   "cell_type": "code",
   "execution_count": null,
   "metadata": {},
   "outputs": [],
   "source": [
    "arr = pca.transform(scaled)\n",
    "data1_df = pd.DataFrame(arr)\n",
    "\n",
    "new_df = data1_df @ key_df + pca.mean_\n",
    "\n",
    "pca.explained_variance_ratio_.round(2)"
   ]
  },
  {
   "cell_type": "code",
   "execution_count": null,
   "metadata": {},
   "outputs": [],
   "source": [
    "pca.fit_transform(test[fields]) @ key_df + pca.mean_"
   ]
  },
  {
   "cell_type": "code",
   "execution_count": null,
   "metadata": {},
   "outputs": [],
   "source": [
    "mvp_field[fields]"
   ]
  },
  {
   "cell_type": "code",
   "execution_count": null,
   "metadata": {},
   "outputs": [],
   "source": [
    "past_mvps"
   ]
  },
  {
   "cell_type": "code",
   "execution_count": null,
   "metadata": {},
   "outputs": [],
   "source": []
  }
 ],
 "metadata": {
  "kernelspec": {
   "display_name": "Python 3",
   "language": "python",
   "name": "python3"
  },
  "language_info": {
   "codemirror_mode": {
    "name": "ipython",
    "version": 3
   },
   "file_extension": ".py",
   "mimetype": "text/x-python",
   "name": "python",
   "nbconvert_exporter": "python",
   "pygments_lexer": "ipython3",
   "version": "3.8.8"
  }
 },
 "nbformat": 4,
 "nbformat_minor": 4
}
